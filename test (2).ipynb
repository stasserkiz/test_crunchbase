{
 "cells": [
  {
   "cell_type": "code",
   "execution_count": 1,
   "id": "b872b1a4-f1e2-4f5b-a83a-b074eaa15bdc",
   "metadata": {},
   "outputs": [],
   "source": [
    "#!pip install requests beautifulsoup4"
   ]
  },
  {
   "cell_type": "code",
   "execution_count": 74,
   "id": "ce9ef26f-fcbf-4ce5-a378-0575d316bcd4",
   "metadata": {},
   "outputs": [],
   "source": [
    "import undetected_chromedriver as uc\n",
    "from selenium.webdriver.chrome.options import Options\n",
    "from selenium.webdriver.common.by import By\n",
    "import pandas as pd"
   ]
  },
  {
   "cell_type": "code",
   "execution_count": 24,
   "id": "cd70a527-a2e4-4d5a-b0e0-bb9a328509b0",
   "metadata": {},
   "outputs": [],
   "source": [
    "options = Options()\n",
    "# options.add_argument(\"--headless\")  # Запуск в безголовому режимі, якщо потрібно\n",
    "driver = uc.Chrome(options=options)"
   ]
  },
  {
   "cell_type": "code",
   "execution_count": 26,
   "id": "de50400b-5072-429d-9ac4-e460f20c17e7",
   "metadata": {},
   "outputs": [],
   "source": [
    "driver.get('https://www.crunchbase.com/discover/organization.companies/c1187ebc88e42152479b2618bc8c61bb')"
   ]
  },
  {
   "cell_type": "code",
   "execution_count": 28,
   "id": "aa92a8ed-5839-4ad4-8432-b23386244a4b",
   "metadata": {},
   "outputs": [],
   "source": [
    "element = driver.find_element(By.CLASS_NAME, 'cdk-drop-list')"
   ]
  },
  {
   "cell_type": "code",
   "execution_count": 30,
   "id": "a4585ef9-f891-4949-ae0c-b3246c9a60d5",
   "metadata": {},
   "outputs": [],
   "source": [
    "element_stick = element.find_element(By.CLASS_NAME, 'sticky-column-2')"
   ]
  },
  {
   "cell_type": "code",
   "execution_count": 32,
   "id": "567fa8e5-788a-4b97-ac38-e771c8fb29de",
   "metadata": {},
   "outputs": [],
   "source": [
    "stick = element.find_element(By.CLASS_NAME, 'component--field-formatter')"
   ]
  },
  {
   "cell_type": "code",
   "execution_count": 34,
   "id": "eaa5cd3e-6c9b-4266-b15e-c84f4a838231",
   "metadata": {},
   "outputs": [],
   "source": [
    "stick_link = stick.get_attribute('href')"
   ]
  },
  {
   "cell_type": "code",
   "execution_count": 35,
   "id": "175d7b86-5783-422d-b8c9-4048121c7664",
   "metadata": {},
   "outputs": [
    {
     "data": {
      "text/plain": [
       "'https://www.crunchbase.com/organization/oak-network'"
      ]
     },
     "execution_count": 35,
     "metadata": {},
     "output_type": "execute_result"
    }
   ],
   "source": [
    "stick_link"
   ]
  },
  {
   "cell_type": "code",
   "execution_count": 36,
   "id": "a553cdc8-8f8f-4ed1-a8ce-097dbedca513",
   "metadata": {},
   "outputs": [],
   "source": [
    "driver.get(stick_link)"
   ]
  },
  {
   "cell_type": "code",
   "execution_count": 42,
   "id": "8a21dd87-7fb3-4ee7-92ba-025d3858e6fc",
   "metadata": {},
   "outputs": [],
   "source": [
    "name_element = driver.find_element(By.CLASS_NAME, 'profile-name')"
   ]
  },
  {
   "cell_type": "code",
   "execution_count": 43,
   "id": "5f0a1b62-0f6e-4852-a658-c78db747fa65",
   "metadata": {},
   "outputs": [],
   "source": [
    "name = name_element.text "
   ]
  },
  {
   "cell_type": "code",
   "execution_count": 50,
   "id": "686c2bb8-2f0a-4ecd-b539-c5544ece518a",
   "metadata": {},
   "outputs": [],
   "source": [
    "id_block = driver.find_element(By.CLASS_NAME, 'icon_and_value')"
   ]
  },
  {
   "cell_type": "code",
   "execution_count": 56,
   "id": "b53d47bf-b047-44dd-a959-eb243d55a9c3",
   "metadata": {},
   "outputs": [],
   "source": [
    "elements = id_block.find_elements(By.CLASS_NAME, 'component--field-formatter')"
   ]
  },
  {
   "cell_type": "code",
   "execution_count": 63,
   "id": "7dceb973-eb40-4fb2-bea4-dfff6df1ea90",
   "metadata": {},
   "outputs": [],
   "source": [
    "all_info = []"
   ]
  },
  {
   "cell_type": "code",
   "execution_count": 71,
   "id": "8c857346-fccf-457b-a16e-be87a32f8c8d",
   "metadata": {},
   "outputs": [],
   "source": [
    "ad_info = {\n",
    "                    'name': name,\n",
    "                    'location': elements[0].text,\n",
    "                    'size': elements[1].text,\n",
    "                    'url': elements[4].text\n",
    "                }"
   ]
  },
  {
   "cell_type": "code",
   "execution_count": 72,
   "id": "d7c8ca7b-a55e-4357-8939-9238a2582dd5",
   "metadata": {},
   "outputs": [],
   "source": [
    "all_info.append(ad_info)"
   ]
  },
  {
   "cell_type": "code",
   "execution_count": 75,
   "id": "c956ed0d-63c1-4b19-ad09-9aa29c07f108",
   "metadata": {},
   "outputs": [],
   "source": [
    "df = pd.DataFrame(all_info)"
   ]
  },
  {
   "cell_type": "code",
   "execution_count": 77,
   "id": "21e3f157-de78-4d45-963f-22568f9eac01",
   "metadata": {},
   "outputs": [],
   "source": [
    "df.to_excel('airbnb_data.xlsx', index=False)"
   ]
  },
  {
   "cell_type": "code",
   "execution_count": null,
   "id": "3711bc08-07bd-424b-b2b7-d77e124c1fb3",
   "metadata": {},
   "outputs": [],
   "source": []
  }
 ],
 "metadata": {
  "kernelspec": {
   "display_name": "Python 3 (ipykernel)",
   "language": "python",
   "name": "python3"
  },
  "language_info": {
   "codemirror_mode": {
    "name": "ipython",
    "version": 3
   },
   "file_extension": ".py",
   "mimetype": "text/x-python",
   "name": "python",
   "nbconvert_exporter": "python",
   "pygments_lexer": "ipython3",
   "version": "3.11.7"
  }
 },
 "nbformat": 4,
 "nbformat_minor": 5
}
